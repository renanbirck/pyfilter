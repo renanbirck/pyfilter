{
 "cells": [
  {
   "cell_type": "code",
   "execution_count": 51,
   "metadata": {
    "collapsed": true
   },
   "outputs": [],
   "source": [
    "import scipy as sp, numpy as np, sympy as sym, sympy.solvers as solvers, scipy.signal as signal\n",
    "from scipy import optimize"
   ]
  },
  {
   "cell_type": "code",
   "execution_count": 3,
   "metadata": {
    "collapsed": true
   },
   "outputs": [],
   "source": [
    "# Sample problem (for testing)\n",
    "a, b, c, x = sym.var('a b c x')\n",
    "f = lambda x: (a+b)*x**2 + (b+c)*x + c\n",
    "g = lambda x: 3*x**2 + 5*x + 1"
   ]
  },
  {
   "cell_type": "code",
   "execution_count": 4,
   "metadata": {
    "collapsed": false,
    "scrolled": true
   },
   "outputs": [
    {
     "data": {
      "text/plain": [
       "{b: 4, c: 1, a: -1}"
      ]
     },
     "execution_count": 4,
     "metadata": {},
     "output_type": "execute_result"
    }
   ],
   "source": [
    "solvers.solve_undetermined_coeffs(f(x) - g(x), [a, b, c], x)"
   ]
  },
  {
   "cell_type": "code",
   "execution_count": 15,
   "metadata": {
    "collapsed": false
   },
   "outputs": [],
   "source": [
    "# simple circuit\n",
    "R, C, s = sym.var('R C s')\n",
    "RC_tf = lambda s, R, C: 1/(1+R*C*s)\n",
    "my_RC_tf = lambda s: 1/(1+0.03*s)"
   ]
  },
  {
   "cell_type": "code",
   "execution_count": 16,
   "metadata": {
    "collapsed": false
   },
   "outputs": [
    {
     "data": {
      "text/plain": [
       "{C: 0.0300000000000000}"
      ]
     },
     "execution_count": 16,
     "metadata": {},
     "output_type": "execute_result"
    }
   ],
   "source": [
    "solvers.solve_undetermined_coeffs(RC_tf(s, 1, C) - my_RC_tf(s), [C], s)"
   ]
  },
  {
   "cell_type": "code",
   "execution_count": 7,
   "metadata": {
    "collapsed": true
   },
   "outputs": [],
   "source": [
    "def vec_to_polynomial(vec, poly_var='s'):\n",
    "    s = sym.var(poly_var)\n",
    "    powers = [s**n for n in list(reversed(range(len(vec))))]\n",
    "\n",
    "    expr_pow = [vec_val * vec_pow for (vec_val, vec_pow) in zip(vec, powers)]\n",
    "    return sum(expr_pow)\n",
    "\n",
    "def ba_to_polynomial(num, den, poly_var='s'):\n",
    "    return vec_to_polynomial(num, poly_var)/vec_to_polynomial(den, poly_var)"
   ]
  },
  {
   "cell_type": "code",
   "execution_count": 45,
   "metadata": {
    "collapsed": false
   },
   "outputs": [],
   "source": [
    "def one_pole_RC(R, C):\n",
    "    return ba_to_polynomial([1], [1, 1/(R*C)], 's')\n",
    "def sk_lowpass(R1, R2, C1, C2):\n",
    "    return ba_to_polynomial([1], [1, (C2 * (R1+R2))/(R1*R2*C1*C2), 1/(R1*R2*C1*C2)], 's')"
   ]
  },
  {
   "cell_type": "code",
   "execution_count": 47,
   "metadata": {
    "collapsed": false
   },
   "outputs": [],
   "source": [
    "R, C = sym.var('R C')\n"
   ]
  },
  {
   "cell_type": "code",
   "execution_count": 50,
   "metadata": {
    "collapsed": false
   },
   "outputs": [
    {
     "data": {
      "text/plain": [
       "{C: 3.18309886243549e-8}"
      ]
     },
     "execution_count": 50,
     "metadata": {},
     "output_type": "execute_result"
    }
   ],
   "source": [
    "solvers.solve_undetermined_coeffs(ba_to_polynomial([1], [1, 31415.92653])-one_pole_RC(1e3, C), [C], 's')"
   ]
  },
  {
   "cell_type": "code",
   "execution_count": 56,
   "metadata": {
    "collapsed": false
   },
   "outputs": [],
   "source": [
    "[r, p, k] =signal.residue([1], [1, 2, 1])"
   ]
  },
  {
   "cell_type": "code",
   "execution_count": 57,
   "metadata": {
    "collapsed": false
   },
   "outputs": [
    {
     "data": {
      "text/plain": [
       "array([0, 1.0/(s + 1.0)], dtype=object)"
      ]
     },
     "execution_count": 57,
     "metadata": {},
     "output_type": "execute_result"
    }
   ],
   "source": [
    "r/(s-p)"
   ]
  },
  {
   "cell_type": "code",
   "execution_count": 60,
   "metadata": {
    "collapsed": false
   },
   "outputs": [
    {
     "data": {
      "text/plain": [
       "array([-1., -1.])"
      ]
     },
     "execution_count": 60,
     "metadata": {},
     "output_type": "execute_result"
    }
   ],
   "source": [
    "p"
   ]
  },
  {
   "cell_type": "code",
   "execution_count": null,
   "metadata": {
    "collapsed": true
   },
   "outputs": [],
   "source": []
  }
 ],
 "metadata": {
  "kernelspec": {
   "display_name": "Python 3",
   "language": "python",
   "name": "python3"
  },
  "language_info": {
   "codemirror_mode": {
    "name": "ipython",
    "version": 3
   },
   "file_extension": ".py",
   "mimetype": "text/x-python",
   "name": "python",
   "nbconvert_exporter": "python",
   "pygments_lexer": "ipython3",
   "version": "3.4.3"
  }
 },
 "nbformat": 4,
 "nbformat_minor": 0
}
